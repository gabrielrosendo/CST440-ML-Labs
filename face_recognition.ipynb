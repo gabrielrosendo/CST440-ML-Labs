{
 "cells": [
  {
   "cell_type": "markdown",
   "metadata": {},
   "source": [
    "Assignment Title: Develop a Face Recognition System\n",
    "\n",
    "Objective:\n",
    "\n",
    "Build a face recognition system using convolutional neural networks (CNNs).\n",
    "Understand the ethical implications of face recognition technologies.\n",
    "Assignment Instructions:\n",
    "\n",
    "Dataset:\n",
    "Use a custom or public face dataset (e.g., LFW dataset) for training the model.\n",
    "Model Implementation:\n",
    "Develop a CNN-based face recognition system using the OpenCV library and TensorFlow/Keras.\n",
    "Train the model to recognize faces from the dataset, and evaluate its performance.\n",
    "Ethics Discussion:\n",
    "Write a section in the report discussing the ethical considerations of face recognition technology, including issues of privacy, bias, and fairness.\n",
    "Submission:\n",
    "Submit a Jupyter notebook with the code, outputs, and analysis.\n",
    "Write a report (3-5 pages) discussing the model’s implementation, performance, and ethical considerations."
   ]
  },
  {
   "cell_type": "code",
   "execution_count": 3,
   "metadata": {},
   "outputs": [
    {
     "name":