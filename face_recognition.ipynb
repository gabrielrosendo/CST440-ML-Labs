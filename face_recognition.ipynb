{
 "cells": [
  {
   "cell_type": "markdown",
   "metadata": {},
   "source": [
    "Assignment Title: Develop a Face Recognition System\n",
    "\n",
    "Objective:\n",
    "\n",
    "Build a face recognition system using convolutional neural networks (CNNs).\n",
    "Understand the ethical implications of face recognition technologies.\n",
    "Assignment Instructions:\n",
    "\n",
    "Dataset:\n",
    "Use a custom or public face dataset (e.g., LFW dataset) for training the model.\n",
    "Model Implementation:\n",
    "Develop a CNN-based face recognition system using the OpenCV library and TensorFlow/Keras.\n",
    "Train the model to recognize faces from the dataset, and evaluate its performance.\n",
    "Ethics Discussion:\n",
    "Write a section in the report discussing the ethical considerations of face recognition technology, including issues of privacy, bias, and fairness."
   ]
  },
  {
   "cell_type": "markdown",
   "metadata": {},
   "source": [
    "## Import Libraries and Load Subset of Data\n",
    "- Starting with subset of 15 people to experiment\n",
    "- Whole Dataset is too heavy and difficult to proccess"
   ]
  },
  {
   "cell_type": "code",
   "execution_count": null,
   "metadata": {},
   "outputs": [
    {
     "name": "stderr",
     "output_type": "stream",
     "text": [
      "/"
     ]
    },
    {
     "name": "stdout",
     "output_type": "stream",
     "text": [
      "Opening dataset in read-only mode as you don't have write permissions.\n"
     ]
    },
    {
     "name": "stderr",
     "output_type": "stream",
     "text": [
      "/"
     ]
    },
    {
     "name": "stdout",
     "output_type": "stream",
     "text": [
      "This dataset can be visualized in Jupyter Notebook by ds.visualize() or at https://app.activeloop.ai/activeloop/lfw-deep-funneled\n",
      "\n"
     ]
    },
    {
     "name": "stderr",
     "output_type": "stream",
     "text": [
      "|"
     ]
    },
    {
     "name": "stdout",
     "output_type": "stream",
     "text": [
      "hub://activeloop/lfw-deep-funneled loaded successfully.\n",
      "\n"
     ]
    },
    {
     "name": "stderr",
     "output_type": "stream",
     "text": [
      " "
     ]
    },
    {
     "name": "stdout",
     "output_type": "stream",
     "text": [
      "Raw name tensor: Tensor(key='name', index=Index([0]))\n",
      "Name data: {'value': array([0], dtype=uint32), 'text': ['Sergio_Vieira_De_Mello']}\n",
      "\n",
      "Available fields:\n",
      "- images\n",
      "- name\n"
     ]
    },
    {
     "name": "stderr",
     "output_type": "stream",
     "text": [
      "/Library/Frameworks/Python.framework/Versions/3.11/lib/python3.11/site-packages/deeplake/core/tensor.py:719: UserWarning: Indexing by integer in a for loop, like `for i in range(len(ds)): ... ds.tensor[i]` can be quite slow. Use `for i, sample in enumerate(ds)` instead.\n",
      "  warnings.warn(\n"
     ]
    },
    {
     "name": "stdout",
     "output_type": "stream",
     "text": [
      "Selected people: ['Princess_Caroline', 'Sergio_Vieira_De_Mello', 'Nicole_Kidman', 'Queen_Rania', 'Christine_Baumgartner', 'Mariah_Carey', 'Sarah_Hughes', 'David_Nalbandian', 'Steffi_Graf', 'Jon_Gruden', 'Robert_Duvall', 'Nancy_Pelosi', 'Sylvester_Stallone', 'Fidel_Castro', 'Lindsay_Davenport']\n"
     ]
    }
   ],
   "source": [
    "import deeplake\n",
    "import tensorflow as tf\n",
    "from tensorflow.keras import layers, models\n",
    "import numpy as np\n",
    "from sklearn.model_selection import train_test_split\n",
    "from sklearn.preprocessing import LabelEncoder\n",
    "from collections import Counter, defaultdict\n",
    "\n",
    "\n",
    "# Load a small subset of the LFW dataset\n",
    "ds = deeplake.load('hub://activeloop/lfw-deep-funneled')\n",
    "\n",
    "# Print data attributes\n",
    "name = ds.name[0]  # Get first name\n",
    "print(\"Raw name tensor:\", name)\n",
    "print(\"Name data:\", name.data())  \n",
    "\n",
    "# Show the available fields\n",
    "print(\"\\nAvailable fields:\")\n",
    "for field in ds.tensors:\n",
    "    print(f\"- {field}\")\n",
    "\n",
    "X = []  # Images\n",
    "y = []  # Names\n",
    "\n",
    "# Count occurrences per person\n",
    "all_counts = Counter(ds.name[i].data()['text'][0] for i in range(len(ds)))\n",
    "\n",
    "# Select people with at least 5 images\n",
    "eligible_people = {name for name, count in all_counts.items() if count >= 5}\n",
    "\n",
    "person_counts = defaultdict(int)\n",
    "selected_people = set()\n",
    "\n",
    "for i in range(len(ds)):\n",
    "    name_val = ds.name[i].data()['text'][0]\n",
    "    \n",
    "    if name_val not in eligible_people:\n",
    "        continue\n",
    "\n",
    "    if len(selected_people) < 15:\n",
    "        selected_people.add(name_val)\n",
    "\n",
    "    if name_val in selected_people and person_counts[name_val] < 5:\n",
    "        image = ds.images[i].numpy()\n",
    "        image = tf.image.resize(image, (64, 64)) / 255.0  # Resize & normalize\n",
    "        \n",
    "        X.append(image)\n",
    "        y.append(name_val)\n",
    "        person_counts[name_val] += 1\n",
    "\n",
    "    if len(selected_people) == 15 and all(count == 5 for count in person_counts.values()):\n",
    "        break\n",
    "\n",
    "print(\"Selected people:\", list(selected_people))\n",
    "\n"
   ]
  },
  {
   "cell_type": "markdown",
   "metadata": {},
   "source": [
    "## Pre Process Data"
   ]
  },
  {
   "cell_type": "code",
   "execution_count": 37,
   "metadata": {},
   "outputs": [
    {
     "name": "stdout",
     "output_type": "stream",
     "text": [
      "X shape: (75, 64, 64, 3)\n",
      "y shape: (75,)\n",
      "First person: Sergio_Vieira_De_Mello\n",
      "First person encoded: 12\n"
     ]
    },
    {
     "data": {
      "image/png": "[encoded data removed]",
      "text/plain": [
       "<Figure size 640x480 with 1 Axes>"
      ]
     },
     "metadata": {},
     "output_type": "display_data"
    }
   ],
   "source": [
    "# Convert to numpy arrays\n",
    "X = np.array(X)\n",
    "y = np.array(y)\n",
    "\n",
    "# Print dataset shapes\n",
    "print(\"X shape:\", X.shape)\n",
    "print(\"y shape:\", y.shape)\n",
    "\n",
    "# Encode labels\n",
    "label_encoder = LabelEncoder()\n",
    "y_encoded = label_encoder.fit_transform(y)\n",
    "\n",
    "# Display first person and name\n",
    "print(\"First person:\", y[0])\n",
    "print(\"First person encoded:\", y_encoded[0])\n",
    "plt.imshow(X[1])\n",
    "plt.show()\n",
    "\n",
    "# Split the dataset\n",
    "X_train, X_test, y_train, y_test = train_test_split(X, y_encoded, test_size=0.2, random_state=42)"
   ]
  },
  {
   "cell_type": "markdown",
   "metadata": {},
   "source": [
    "## Define & Train the Model"
   ]
  },
  {
   "cell_type": "code",
   "execution_count": null,
   "metadata": {},
   "outputs": [],
   "source": [
    "# Build the model"
   ]
  }
 ],
 "metadata": {
  "kernelspec": {
   "display_name": "Python 3",
   "language": "python",
   "name": "python3"
  },
  "language_info": {
   "codemirror_mode": {
    "name": "ipython",
    "version": 3
   },
   "file_extension": ".py",
   "mimetype": "text/x-python",
   "name": "python",
   "nbconvert_exporter": "python",
   "pygments_lexer": "ipython3",
   "version": "3.11.2"
  }
 },
 "nbformat": 4,
 "nbformat_minor": 2
}
